{
 "cells": [
  {
   "cell_type": "code",
   "execution_count": 2,
   "metadata": {},
   "outputs": [],
   "source": [
    "import xml.dom\n",
    "import xml.dom.minidom\n",
    "import os\n",
    "from PIL import Image"
   ]
  },
  {
   "cell_type": "code",
   "execution_count": 2,
   "metadata": {},
   "outputs": [],
   "source": [
    "def create_xml_file(folder, filename, width, height, depth, objectList):\n",
    "    doc = xml.dom.minidom.Document()\n",
    "    root = doc.createElement('annotation')\n",
    "    doc.appendChild(root)\n",
    "\n",
    "    nodeFolder = doc.createElement('folder')\n",
    "    nodeFileName = doc.createElement('filename')\n",
    "    nodeFolder.appendChild(doc.createTextNode(folder))\n",
    "    nodeFileName.appendChild(doc.createTextNode(filename))\n",
    "    root.appendChild(nodeFolder)\n",
    "    root.appendChild(nodeFileName)\n",
    "\n",
    "    nodeSize = doc.createElement('size')\n",
    "    nodeWidth = doc.createElement('width')\n",
    "    nodeHeight = doc.createElement('height')\n",
    "    nodeDepth = doc.createElement('depth')\n",
    "    nodeWidth.appendChild(doc.createTextNode(str(width)))\n",
    "    nodeHeight.appendChild(doc.createTextNode(str(height)))\n",
    "    nodeDepth.appendChild(doc.createTextNode(str(depth)))\n",
    "    nodeSize.appendChild(nodeWidth)\n",
    "    nodeSize.appendChild(nodeHeight)\n",
    "    nodeSize.appendChild(nodeDepth)\n",
    "    root.appendChild(nodeSize)\n",
    "\n",
    "    nodeSegmented = doc.createElement('segmented')\n",
    "    nodeSegmented.appendChild(doc.createTextNode('0'))\n",
    "    root.appendChild(nodeSegmented)\n",
    "\n",
    "    for obj in objectList:\n",
    "        nodeObject = doc.createElement('object')\n",
    "        nodeName = doc.createElement('name')\n",
    "        nodePose = doc.createElement('pose')\n",
    "        nodeTruncated = doc.createElement('truncated')\n",
    "        nodeDifficult = doc.createElement('difficult')\n",
    "        nodeBndbox = doc.createElement('bndbox')\n",
    "        nodeXmin = doc.createElement('xmin')\n",
    "        nodeYmin = doc.createElement('ymin')\n",
    "        nodeXmax = doc.createElement('xmax')\n",
    "        nodeYmax = doc.createElement('ymax')\n",
    "\n",
    "        nodeName.appendChild(doc.createTextNode(obj['name']))\n",
    "        nodePose.appendChild(doc.createTextNode(\"Unspecified\"))\n",
    "        nodeTruncated.appendChild(doc.createTextNode(\"0\"))\n",
    "        nodeDifficult.appendChild(doc.createTextNode(\"0\"))\n",
    "        nodeXmin.appendChild(doc.createTextNode(str(obj['xmin'])))\n",
    "        nodeYmin.appendChild(doc.createTextNode(str(obj['ymin'])))\n",
    "        nodeXmax.appendChild(doc.createTextNode(str(obj['xmax'])))\n",
    "        nodeYmax.appendChild(doc.createTextNode(str(obj['ymax'])))\n",
    "\n",
    "        nodeBndbox.appendChild(nodeXmin)\n",
    "        nodeBndbox.appendChild(nodeYmin)\n",
    "        nodeBndbox.appendChild(nodeXmax)\n",
    "        nodeBndbox.appendChild(nodeYmax)\n",
    "        nodeObject.appendChild(nodeName)\n",
    "        nodeObject.appendChild(nodePose)\n",
    "        nodeObject.appendChild(nodeTruncated)\n",
    "        nodeObject.appendChild(nodeDifficult)\n",
    "        nodeObject.appendChild(nodeBndbox)\n",
    "\n",
    "        root.appendChild(nodeObject)\n",
    "    \n",
    "    return doc"
   ]
  },
  {
   "cell_type": "code",
   "execution_count": 3,
   "metadata": {},
   "outputs": [],
   "source": [
    "def parse_bounding_box(dir):\n",
    "    with open(dir, 'r') as f:\n",
    "        line = f.readline().strip().split(\" \")\n",
    "        x1 = round(float(line[0]))\n",
    "        y1 = round(float(line[1]))\n",
    "        x2 = round(float(line[2]))\n",
    "        y2 = round(float(line[3]))\n",
    "    return (x1,y1,x2,y2)"
   ]
  },
  {
   "cell_type": "code",
   "execution_count": 13,
   "metadata": {},
   "outputs": [],
   "source": [
    "def create_emotion_annotation(label_list, bbox_dir, img_dir, anno_dir):\n",
    "    label_mapping = {\"1\":\"Surprise\", \"2\":\"Fear\", \"3\":\"Disgust\", \"4\":\"Happiness\", \"5\":\"Sadness\",\n",
    "                     \"6\":\"Anger\", \"7\":\"Neutral\"}\n",
    "\n",
    "    with open(label_list, 'r') as f:\n",
    "        for line in f:\n",
    "            line = line.strip().split(\" \")\n",
    "            img_name = line[0]\n",
    "            prefix = img_name.replace(\".jpg\", \"\")\n",
    "            cls = label_mapping[line[1]]\n",
    "            bbox = parse_bounding_box(bbox_dir+prefix+\"_boundingbox.txt\")\n",
    "            folder = \"Emotion\"\n",
    "            img = Image.open(os.path.join(img_dir, img_name))\n",
    "            width, height = img.size\n",
    "            depth = \"3\"\n",
    "            obj = {\"name\":cls, \"xmin\":bbox[0], \"ymin\":bbox[1],\n",
    "                   \"xmax\":bbox[2], \"ymax\":bbox[3]}\n",
    "            \n",
    "            doc = create_xml_file(folder, img_name, width, height, depth, [obj])\n",
    "            fp = open(os.path.join(anno_dir, prefix+\".xml\"), 'w')\n",
    "            doc.writexml(fp, indent='\\t', addindent='\\t', newl='\\n', encoding=\"utf-8\")"
   ]
  },
  {
   "cell_type": "code",
   "execution_count": 4,
   "metadata": {},
   "outputs": [],
   "source": [
    "def create_imageset(label_list, imgset_dir, train_num=10000):\n",
    "    ftest = open(os.path.join(imgset_dir, \"test.txt\"), 'w')\n",
    "    ftrain = open(os.path.join(imgset_dir, \"train.txt\"), 'w')\n",
    "    ftrainval = open(os.path.join(imgset_dir, \"trainval.txt\"), 'w')\n",
    "    fval = open(os.path.join(imgset_dir, \"val.txt\"), 'w')\n",
    "    \n",
    "    ignore = {\"train_00613\", \"train_01987\", \"train_04655\", \"train_05643\", \"train_06645\", \"train_08621\", \"train_08780\", \"train_10621\" ,\"test_1838\"}\n",
    "    with open(label_list, 'r') as f:\n",
    "        for line in f:\n",
    "            line = line.strip().split(\" \")\n",
    "            img_name = line[0].replace(\".jpg\", \"\")\n",
    "            if img_name in ignore:\n",
    "                continue\n",
    "            if img_name.startswith(\"train\"):\n",
    "                ftrain.write(img_name+\"\\n\")\n",
    "                ftrainval.write(img_name+\"\\n\")\n",
    "            else:\n",
    "                ftrainval.write(img_name+\"\\n\")\n",
    "                fval.write(img_name+\"\\n\")\n",
    "                ftest.write(img_name+\"\\n\")\n",
    "    ftest.close()\n",
    "    ftrain.close()\n",
    "    ftrainval.close()\n",
    "    fval.close()"
   ]
  },
  {
   "cell_type": "code",
   "execution_count": 3,
   "metadata": {},
   "outputs": [],
   "source": [
    "root = 'D:\\\\Courses\\\\2021 Semester 2\\\\Research Project'\n",
    "label_list = os.path.join(root, \"basic/EmoLabel/list_patition_label.txt\")\n",
    "bbox_dir = os.path.join(root, \"basic/Annotation/boundingbox/\")\n",
    "\n",
    "\n",
    "anno_dir = os.path.join(root, \"FasterRCNN/datasets/Emotion/Annotations\")\n",
    "img_dir = os.path.join(root, \"FasterRCNN/datasets/Emotion/JPEGImages\")\n",
    "imgset_dir = os.path.join(root, \"FasterRCNN/datasets/Emotion/ImageSets/Main\")"
   ]
  },
  {
   "cell_type": "code",
   "execution_count": 9,
   "metadata": {},
   "outputs": [],
   "source": [
    "create_emotion_annotation(label_list, bbox_dir, img_dir, anno_dir)"
   ]
  },
  {
   "cell_type": "code",
   "execution_count": 5,
   "metadata": {},
   "outputs": [],
   "source": [
    "create_imageset(label_list, imgset_dir)"
   ]
  },
  {
   "cell_type": "code",
   "execution_count": null,
   "metadata": {},
   "outputs": [],
   "source": []
  },
  {
   "cell_type": "code",
   "execution_count": null,
   "metadata": {},
   "outputs": [],
   "source": [
    "# dataset: 0:gender, 1:race, 2:age\n",
    "def create_annotation(label_dir, bbox_dir, img_dir, anno_dir, dataset):\n",
    "    label_mapping = [{\"0\": \"male\", \"1\":\"female\", \"2\": \"unsure\"},{\"0\": \"Caucasian\", \"1\": \"African-American\", \"2\": \"Asian\"},{\"0\": \"0-3\", \"1\": \"4-19\", \"2\": \"20-39\", \"3\": \"40-69\", \"4\": \"70+\"}]\n",
    "    \n",
    "    for filename in os.listdir(label_dir):\n",
    "        with open(os.path.join(label_dir, filename), 'r') as f:\n",
    "            for i in range(5+dataset):\n",
    "                f.readline()\n",
    "            cls = label_mapping[dataset][f.readline().strip()]\n",
    "            prefix = filename.replace(\"_manu_attri.txt\", \"\")\n",
    "            img_name = prefix + \".jpg\"\n",
    "            folder = \"Race\"\n",
    "            bbox = parse_bounding_box(bbox_dir+prefix+\"_boundingbox.txt\")\n",
    "            img = Image.open(os.path.join(img_dir, img_name))\n",
    "            width, height = img.size\n",
    "            depth = \"3\"\n",
    "            obj = {\"name\":cls, \"xmin\":bbox[0], \"ymin\":bbox[1],\n",
    "                   \"xmax\":bbox[2], \"ymax\":bbox[3]}\n",
    "            doc = create_xml_file(folder, img_name, width, height, depth, [obj])\n",
    "            fp = open(os.path.join(anno_dir, prefix+\".xml\"), 'w')\n",
    "            doc.writexml(fp, indent='\\t', addindent='\\t', newl='\\n', encoding=\"utf-8\")"
   ]
  },
  {
   "cell_type": "code",
   "execution_count": null,
   "metadata": {},
   "outputs": [],
   "source": [
    "root = 'D:\\\\Courses\\\\2021 Semester 2\\\\Research Project'\n",
    "label_dir = os.path.join(root, \"basic/Annotation/manual/\")\n",
    "bbox_dir = os.path.join(root, \"basic/Annotation/boundingbox/\")\n",
    "img_dir = os.path.join(root, \"FasterRCNN/datasets/Emotion/JPEGImages\")\n",
    "\n",
    "anno_dir = os.path.join(root, \"FasterRCNN/datasets/Race/Annotations\")"
   ]
  },
  {
   "cell_type": "code",
   "execution_count": null,
   "metadata": {},
   "outputs": [],
   "source": [
    "create_annotation(label_dir, bbox_dir, img_dir, anno_dir, dataset)"
   ]
  }
 ],
 "metadata": {
  "kernelspec": {
   "display_name": "Python 3",
   "language": "python",
   "name": "python3"
  },
  "language_info": {
   "codemirror_mode": {
    "name": "ipython",
    "version": 3
   },
   "file_extension": ".py",
   "mimetype": "text/x-python",
   "name": "python",
   "nbconvert_exporter": "python",
   "pygments_lexer": "ipython3",
   "version": "3.6.8"
  }
 },
 "nbformat": 4,
 "nbformat_minor": 4
}
